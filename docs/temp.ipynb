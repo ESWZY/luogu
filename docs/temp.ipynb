{
 "cells": [
  {
   "cell_type": "code",
   "execution_count": 1,
   "metadata": {},
   "outputs": [
    {
     "name": "stdout",
     "output_type": "stream",
     "text": [
      "[[1 1 2 2]\n",
      " [3 3 4 4]\n",
      " [5 5 6 6]]\n"
     ]
    }
   ],
   "source": [
    "from pyscf.lib import dot\n",
    "import numpy as np\n",
    "\n",
    "print( np.array([[[1,1],[2,2]], [[3,3], [4,4]], [[5,5], [6,6]]]).reshape(3,-1))"
   ]
  },
  {
   "cell_type": "code",
   "execution_count": 8,
   "metadata": {},
   "outputs": [
    {
     "name": "stdout",
     "output_type": "stream",
     "text": [
      "converged SCF energy = -1.1287094895614\n",
      "Call direct_spin1!\n",
      "CASSCF energy = -1.1469082901018\n",
      "CASCI E = -1.1469082901018  E(CI) = -1.86119023969497  S^2 = 0.0000000\n",
      "[[ 9.94052033e-01  1.18008351e-13]\n",
      " [ 1.18008633e-13 -1.08906175e-01]]\n",
      "(10, 10)\n",
      "(3, 3)\n"
     ]
    }
   ],
   "source": [
    "from pyscf import gto\n",
    "from pyscf.scf import hf\n",
    "from pyscf.mcscf.mc1step import CASSCF\n",
    "\n",
    "mol = gto.M(atom='H 0 0 0; H 0.740852 0 0', basis='cc-pvdz')\n",
    "mf = hf.RHF(mol); mf.kernel()\n",
    "\n",
    "cas = CASSCF(mf, 2, 2) # \n",
    "cas.kernel()\n",
    "\n",
    "print(cas.ci) # 2 * 2\n",
    "print(cas.mo_coeff.shape)   # (10, 10)\n",
    "\n",
    "print(cas.get_h2eff().shape)"
   ]
  }
 ],
 "metadata": {
  "kernelspec": {
   "display_name": "Python 3.9.12 ('base')",
   "language": "python",
   "name": "python3"
  },
  "language_info": {
   "codemirror_mode": {
    "name": "ipython",
    "version": 3
   },
   "file_extension": ".py",
   "mimetype": "text/x-python",
   "name": "python",
   "nbconvert_exporter": "python",
   "pygments_lexer": "ipython3",
   "version": "3.9.12"
  },
  "orig_nbformat": 4,
  "vscode": {
   "interpreter": {
    "hash": "623517a59ba2a6813e33667d3e8547cfe64bce6f3a6fda1670d2c57a0b8be0b5"
   }
  }
 },
 "nbformat": 4,
 "nbformat_minor": 2
}
