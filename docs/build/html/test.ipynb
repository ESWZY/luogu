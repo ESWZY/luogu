{
 "cells": [
  {
   "cell_type": "markdown",
   "metadata": {},
   "source": [
    "# ipynb测试：割线法求解非线性方程的解\n",
    "\n",
    "这只是一个jupyter notebook能否使用的测试"
   ]
  },
  {
   "cell_type": "code",
   "execution_count": 1,
   "metadata": {
    "execution": {
     "iopub.execute_input": "2022-11-02T03:07:03.386841Z",
     "iopub.status.busy": "2022-11-02T03:07:03.385819Z",
     "iopub.status.idle": "2022-11-02T03:07:03.413392Z",
     "shell.execute_reply": "2022-11-02T03:07:03.411691Z"
    }
   },
   "outputs": [],
   "source": [
    "def secant(f, x0, x1, eps):\n",
    "    import sys\n",
    "    f_x0 = f(x0)\n",
    "    f_x1 = f(x1)\n",
    "    iteration_counter = 0\n",
    "    while abs(f_x1) > eps and iteration_counter < 100:\n",
    "        try:\n",
    "            denominator = float(f_x1 - f_x0)/(x1 - x0)\n",
    "            x = x1 - float(f_x1)/denominator\n",
    "        except ZeroDivisionError:\n",
    "            print (\"Error! - denominator zero for x = \", x)\n",
    "            sys.exit(1)     # Abort with error\n",
    "        x0 = x1\n",
    "        x1 = x\n",
    "        f_x0 = f_x1\n",
    "        f_x1 = f(x1)\n",
    "        iteration_counter += 1\n",
    "    # Here, either a solution is found, or too many iterations\n",
    "    if abs(f_x1) > eps:\n",
    "        iteration_counter = -1\n",
    "    return x, iteration_counter\n"
   ]
  },
  {
   "cell_type": "code",
   "execution_count": 2,
   "metadata": {
    "execution": {
     "iopub.execute_input": "2022-11-02T03:07:03.419732Z",
     "iopub.status.busy": "2022-11-02T03:07:03.419294Z",
     "iopub.status.idle": "2022-11-02T03:07:04.702350Z",
     "shell.execute_reply": "2022-11-02T03:07:04.701654Z"
    }
   },
   "outputs": [],
   "source": [
    "from pyscf import pbc\n"
   ]
  }
 ],
 "metadata": {
  "kernelspec": {
   "display_name": "Python 3.9.12 ('base')",
   "language": "python",
   "name": "python3"
  },
  "language_info": {
   "codemirror_mode": {
    "name": "ipython",
    "version": 3
   },
   "file_extension": ".py",
   "mimetype": "text/x-python",
   "name": "python",
   "nbconvert_exporter": "python",
   "pygments_lexer": "ipython3",
   "version": "3.9.12"
  },
  "vscode": {
   "interpreter": {
    "hash": "623517a59ba2a6813e33667d3e8547cfe64bce6f3a6fda1670d2c57a0b8be0b5"
   }
  }
 },
 "nbformat": 4,
 "nbformat_minor": 2
}
